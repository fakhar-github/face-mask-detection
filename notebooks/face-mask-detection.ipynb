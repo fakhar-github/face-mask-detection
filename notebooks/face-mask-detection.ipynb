{
 "cells": [
  {
   "cell_type": "code",
   "execution_count": 12,
   "metadata": {},
   "outputs": [],
   "source": [
    "from fmdtools.dataset.dataset import datapreprocessing\n",
    "import os\n",
    "import matplotlib.pyplot as plt\n",
    "\n",
    "data_dir = '../fmdtools/dataset'\n",
    "imag_names, xml_names = datapreprocessing(data_dir=data_dir)"
   ]
  },
  {
   "cell_type": "code",
   "execution_count": null,
   "metadata": {},
   "outputs": [],
   "source": [
    "plt.imread(os.path.join(f'{data_dir}/images'))"
   ]
  },
  {
   "cell_type": "code",
   "execution_count": 18,
   "metadata": {},
   "outputs": [
    {
     "name": "stdout",
     "output_type": "stream",
     "text": [
      "dict_keys(['without_mask']) \n",
      " dict_values([1])\n"
     ]
    }
   ],
   "source": [
    "import xmltodict\n",
    "from collections import Counter\n",
    "\n",
    "listing = []\n",
    "for i in imag_names[1:2]:\n",
    "    with open(f'{data_dir}/annotations/'+i[:-4]+\".xml\") as fd:\n",
    "        doc = xmltodict.parse(fd.read())\n",
    "    temp=doc[\"annotation\"][\"object\"]\n",
    "    if type(temp)==list:\n",
    "        for i in range(len(temp)):\n",
    "            listing.append(temp[i][\"name\"])\n",
    "    else:\n",
    "        listing.append(temp[\"name\"])\n",
    "        \n",
    "\n",
    "Items = Counter(listing).keys()\n",
    "values = Counter(listing).values()\n",
    "print(Items,'\\n',values)"
   ]
  },
  {
   "cell_type": "code",
   "execution_count": 19,
   "metadata": {},
   "outputs": [
    {
     "data": {
      "text/plain": [
       "{'name': 'without_mask',\n",
       " 'pose': 'Unspecified',\n",
       " 'truncated': '0',\n",
       " 'occluded': '0',\n",
       " 'difficult': '0',\n",
       " 'bndbox': {'xmin': '101', 'ymin': '174', 'xmax': '209', 'ymax': '299'}}"
      ]
     },
     "execution_count": 19,
     "metadata": {},
     "output_type": "execute_result"
    }
   ],
   "source": [
    "temp"
   ]
  },
  {
   "cell_type": "code",
   "execution_count": null,
   "metadata": {},
   "outputs": [],
   "source": []
  }
 ],
 "metadata": {
  "kernelspec": {
   "display_name": "cv-face-mask-detection",
   "language": "python",
   "name": "python3"
  },
  "language_info": {
   "codemirror_mode": {
    "name": "ipython",
    "version": 3
   },
   "file_extension": ".py",
   "mimetype": "text/x-python",
   "name": "python",
   "nbconvert_exporter": "python",
   "pygments_lexer": "ipython3",
   "version": "3.9.23"
  },
  "orig_nbformat": 4
 },
 "nbformat": 4,
 "nbformat_minor": 2
}
